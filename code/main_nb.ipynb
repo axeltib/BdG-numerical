{
 "cells": [
  {
   "cell_type": "code",
   "execution_count": 6,
   "metadata": {},
   "outputs": [],
   "source": [
    "import sys\n",
    "\n",
    "import numpy as np\n",
    "\n",
    "import matplotlib.pyplot as plt\n",
    "\n",
    "if \"/home/axel/Studier/bdg_formalism/BdG-numerical/methods\" not in sys.path:\n",
    "    sys.path.append(\"/home/axel/Studier/bdg_formalism/BdG-numerical/methods\")\n",
    "    \n",
    "from bdg_method import BdG_method\n",
    "from modified_bdg_method import MBdG_method"
   ]
  },
  {
   "cell_type": "code",
   "execution_count": 7,
   "metadata": {},
   "outputs": [
    {
     "name": "stdout",
     "output_type": "stream",
     "text": [
      "The autoreload extension is already loaded. To reload it, use:\n",
      "  %reload_ext autoreload\n"
     ]
    }
   ],
   "source": [
    "%load_ext autoreload\n",
    "%autoreload 2"
   ]
  },
  {
   "cell_type": "code",
   "execution_count": 13,
   "metadata": {},
   "outputs": [
    {
     "name": "stdout",
     "output_type": "stream",
     "text": [
      "done.\n"
     ]
    }
   ],
   "source": [
    "N = 20\n",
    "Nc = 2\n",
    "t = 1\n",
    "mu = 0.5 * t\n",
    "T = 0.2\n",
    "\n",
    "num_iter = 10\n",
    "solver = MBdG_method(N, Nc, mu, t, T, num_iter)\n",
    "\n",
    "solver.run_solver()\n",
    "print(\"done.\")"
   ]
  },
  {
   "cell_type": "code",
   "execution_count": 46,
   "metadata": {},
   "outputs": [],
   "source": [
    "a, b = solver.construct_cluster_matrix(0)"
   ]
  },
  {
   "cell_type": "code",
   "execution_count": 14,
   "metadata": {},
   "outputs": [
    {
     "name": "stdout",
     "output_type": "stream",
     "text": [
      "T = 0.0: 0.3817807734012604\n",
      "T = 0.09: 0.3803700804710388\n",
      "T = 0.18: 0.3169369101524353\n"
     ]
    },
    {
     "ename": "KeyboardInterrupt",
     "evalue": "",
     "output_type": "error",
     "traceback": [
      "\u001b[0;31m---------------------------------------------------------------------------\u001b[0m",
      "\u001b[0;31mKeyboardInterrupt\u001b[0m                         Traceback (most recent call last)",
      "Cell \u001b[0;32mIn[14], line 21\u001b[0m\n\u001b[1;32m     19\u001b[0m \u001b[39melse\u001b[39;00m:\n\u001b[1;32m     20\u001b[0m     solver \u001b[39m=\u001b[39m MBdG_method(N, Nc, mu, t, T, num_iter, delta\u001b[39m=\u001b[39mlast_delta)\n\u001b[0;32m---> 21\u001b[0m last_delta \u001b[39m=\u001b[39m solver\u001b[39m.\u001b[39;49mrun_solver()\n\u001b[1;32m     22\u001b[0m delta_diag \u001b[39m=\u001b[39m np\u001b[39m.\u001b[39mdiagonal(solver\u001b[39m.\u001b[39mdelta)\n\u001b[1;32m     23\u001b[0m \u001b[39mprint\u001b[39m(\u001b[39m\"\u001b[39m\u001b[39mT = \u001b[39m\u001b[39m{0}\u001b[39;00m\u001b[39m: \u001b[39m\u001b[39m{1}\u001b[39;00m\u001b[39m\"\u001b[39m\u001b[39m.\u001b[39mformat(\u001b[39mround\u001b[39m(T, \u001b[39m2\u001b[39m), np\u001b[39m.\u001b[39mmean(np\u001b[39m.\u001b[39mreal(delta_diag))))\n",
      "File \u001b[0;32m~/Studier/bdg_formalism/BdG-numerical/methods/modified_bdg_method.py:70\u001b[0m, in \u001b[0;36mMBdG_method.run_solver\u001b[0;34m(self)\u001b[0m\n\u001b[1;32m     68\u001b[0m \u001b[39m\u001b[39m\u001b[39m\"\"\" Runs the solver. \"\"\"\u001b[39;00m\n\u001b[1;32m     69\u001b[0m \u001b[39mfor\u001b[39;00m i \u001b[39min\u001b[39;00m \u001b[39mrange\u001b[39m(\u001b[39mself\u001b[39m\u001b[39m.\u001b[39mnum_iterations):\n\u001b[0;32m---> 70\u001b[0m     \u001b[39mself\u001b[39;49m\u001b[39m.\u001b[39;49mrun_one_pass()\n\u001b[1;32m     71\u001b[0m \u001b[39mreturn\u001b[39;00m \u001b[39mself\u001b[39m\u001b[39m.\u001b[39mdelta\n",
      "File \u001b[0;32m~/Studier/bdg_formalism/BdG-numerical/methods/modified_bdg_method.py:64\u001b[0m, in \u001b[0;36mMBdG_method.run_one_pass\u001b[0;34m(self)\u001b[0m\n\u001b[1;32m     62\u001b[0m delta_tmp \u001b[39m=\u001b[39m np\u001b[39m.\u001b[39mzeros(\u001b[39mself\u001b[39m\u001b[39m.\u001b[39mN, dtype\u001b[39m=\u001b[39m\u001b[39mself\u001b[39m\u001b[39m.\u001b[39mdtype)\n\u001b[1;32m     63\u001b[0m \u001b[39mfor\u001b[39;00m i \u001b[39min\u001b[39;00m \u001b[39mrange\u001b[39m(\u001b[39mself\u001b[39m\u001b[39m.\u001b[39mN):\n\u001b[0;32m---> 64\u001b[0m     delta_tmp[i] \u001b[39m=\u001b[39m \u001b[39mself\u001b[39;49m\u001b[39m.\u001b[39;49mupdate_delta_site(i)\n\u001b[1;32m     65\u001b[0m \u001b[39mself\u001b[39m\u001b[39m.\u001b[39mdelta \u001b[39m=\u001b[39m np\u001b[39m.\u001b[39mdiag(delta_tmp)\n",
      "File \u001b[0;32m~/Studier/bdg_formalism/BdG-numerical/methods/modified_bdg_method.py:50\u001b[0m, in \u001b[0;36mMBdG_method.update_delta_site\u001b[0;34m(self, site_i)\u001b[0m\n\u001b[1;32m     48\u001b[0m \u001b[39mfor\u001b[39;00m i, E \u001b[39min\u001b[39;00m \u001b[39menumerate\u001b[39m(energy_eigs):\n\u001b[1;32m     49\u001b[0m     \u001b[39mif\u001b[39;00m E \u001b[39m<\u001b[39m \u001b[39m0\u001b[39m:  \u001b[39m# should disregard negative eigenvalues, they\u001b[39;00m\n\u001b[0;32m---> 50\u001b[0m         \u001b[39mcontinue\u001b[39;00m\n\u001b[1;32m     51\u001b[0m     u \u001b[39m=\u001b[39m u_eigenvectors[:,i]\n\u001b[1;32m     52\u001b[0m     v \u001b[39m=\u001b[39m v_eigenvectors[:,i]\n",
      "\u001b[0;31mKeyboardInterrupt\u001b[0m: "
     ]
    },
    {
     "data": {
      "image/png": "[encoded data removed]",
      "text/plain": [
       "<Figure size 1500x500 with 1 Axes>"
      ]
     },
     "metadata": {},
     "output_type": "display_data"
    }
   ],
   "source": [
    "# Calculating the gap parameter amplitude\n",
    "N = 20\n",
    "Nc = 2\n",
    "t = 1\n",
    "mu = 0.5 * t\n",
    "\n",
    "\n",
    "num_iter = 100\n",
    "\n",
    "T_set = np.linspace(0, 0.8*t, 10)\n",
    "\n",
    "fig, axs = plt.subplots(1, 1, figsize=(15,5))\n",
    "last_delta = np.zeros((N,N))\n",
    "\n",
    "# Creating a BdG instance\n",
    "for i, T in enumerate(T_set):\n",
    "    if not np.any(last_delta):\n",
    "        solver = MBdG_method(N, Nc, mu, t, T, num_iter)\n",
    "    else:\n",
    "        solver = MBdG_method(N, Nc, mu, t, T, num_iter, delta=last_delta)\n",
    "    last_delta = solver.run_solver()\n",
    "    delta_diag = np.diagonal(solver.delta)\n",
    "    print(\"T = {0}: {1}\".format(round(T, 2), np.mean(np.real(delta_diag))))\n",
    "    axs.scatter(T, np.mean(np.real(delta_diag)), c=\"b\")    \n",
    "    axs.set_xlabel(\"Temperature [t]\")\n"
   ]
  },
  {
   "cell_type": "code",
   "execution_count": null,
   "metadata": {},
   "outputs": [],
   "source": []
  }
 ],
 "metadata": {
  "kernelspec": {
   "display_name": "Python 3",
   "language": "python",
   "name": "python3"
  },
  "language_info": {
   "codemirror_mode": {
    "name": "ipython",
    "version": 3
   },
   "file_extension": ".py",
   "mimetype": "text/x-python",
   "name": "python",
   "nbconvert_exporter": "python",
   "pygments_lexer": "ipython3",
   "version": "3.10.6"
  },
  "orig_nbformat": 4
 },
 "nbformat": 4,
 "nbformat_minor": 2
}

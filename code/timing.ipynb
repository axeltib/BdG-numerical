{
 "cells": [
  {
   "cell_type": "code",
   "execution_count": 1,
   "metadata": {},
   "outputs": [],
   "source": [
    "import sys\n",
    "import time\n",
    "\n",
    "import numpy as np\n",
    "\n",
    "import matplotlib\n",
    "import matplotlib.pyplot as plt\n",
    "\n",
    "if \"/home/axel/Studier/BdG-numerical/methods\" not in sys.path:\n",
    "    sys.path.append(\"/home/axel/BdG-numerical/methods\")\n",
    "    \n",
    "from bdg_method import BdG_method\n",
    "from modified_bdg_method import MBdG_method\n",
    "\n",
    "from utils import find_critical_temperature\n",
    "from utils import calculate_critical_temperature"
   ]
  },
  {
   "cell_type": "code",
   "execution_count": 2,
   "metadata": {},
   "outputs": [],
   "source": [
    "%load_ext autoreload\n",
    "%autoreload 2"
   ]
  },
  {
   "cell_type": "code",
   "execution_count": 55,
   "metadata": {},
   "outputs": [
    {
     "name": "stdout",
     "output_type": "stream",
     "text": [
      "T = 0.0 T = 0.0 T = 0.01 T = 0.01 T = 0.01 "
     ]
    },
    {
     "name": "stderr",
     "output_type": "stream",
     "text": [
      "/home/axel/BdG-numerical/methods/bdg_method.py:60: RuntimeWarning: overflow encountered in exp\n",
      "  return 1 / (np.exp(np.real(E)/(self.kB * self.T)) + 1)\n"
     ]
    },
    {
     "name": "stdout",
     "output_type": "stream",
     "text": [
      "T = 0.02 T = 0.02 T = 0.02 T = 0.03 T = 0.03 T = 0.03 T = 0.04 T = 0.04 T = 0.04 T = 0.05 T = 0.05 T = 0.06 T = 0.06 T = 0.06 T = 0.07 T = 0.07 T = 0.07 T = 0.08 T = 0.08 T = 0.08 T = 0.09 T = 0.09 T = 0.09 T = 0.1 T = 0.1 "
     ]
    },
    {
     "data": {
      "text/plain": [
       "<matplotlib.collections.PathCollection at 0x7fb6c2a820e0>"
      ]
     },
     "execution_count": 55,
     "metadata": {},
     "output_type": "execute_result"
    },
    {
     "data": {
      "image/png": "[encoded data removed]",
      "text/plain": [
       "<Figure size 1500x500 with 1 Axes>"
      ]
     },
     "metadata": {},
     "output_type": "display_data"
    }
   ],
   "source": [
    "# Calculating the gap parameter amplitude\n",
    "N = 20\n",
    "Nc = 2\n",
    "t = 1\n",
    "\n",
    "mu = 0.5 * t\n",
    "V = 1.5 * t\n",
    "\n",
    "convergence_threshold = 1e-7\n",
    "\n",
    "T_set = np.linspace(0, 0.1, 30)\n",
    "\n",
    "fig, axs = plt.subplots(1, 1, figsize=(15,5))\n",
    "last_delta = np.zeros((N,N))\n",
    "\n",
    "# Creating a BdG instance\n",
    "solver = BdG_method(N, Nc, mu, t, V, T_set[0], convergence_threshold)\n",
    "for i, T in enumerate(T_set):\n",
    "    solver.set_temperature(T)\n",
    "    last_delta = solver.run_solver()\n",
    "    \n",
    "    if i == 0:\n",
    "        delta0 = solver.get_global_delta()\n",
    "        \n",
    "    print(\"T = {0}\".format(round(T, 2)), end=\" \")\n",
    "    axs.scatter(T, solver.get_global_delta(), c=\"b\")    \n",
    "    axs.set_xlabel(\"Temperature [t]\")\n",
    "    \n",
    "#plotting analytical solution\n",
    "Tc = delta0 / 1.76\n",
    "\n",
    "# delta0 = 1.76 * Tc\n",
    "\n",
    "axs.scatter(0, delta0, c=\"red\")\n",
    "axs.scatter(Tc, 0, c=\"red\")"
   ]
  },
  {
   "attachments": {},
   "cell_type": "markdown",
   "metadata": {},
   "source": [
    "## Timings\n",
    "Here we look at the time of convergence of the methods"
   ]
  },
  {
   "cell_type": "code",
   "execution_count": 11,
   "metadata": {},
   "outputs": [
    {
     "name": "stdout",
     "output_type": "stream",
     "text": [
      "0.0 0.011 0.022 0.033 0.044 0.056 0.067 0.078 0.089 0.1 Done.\n"
     ]
    }
   ],
   "source": [
    "# Calculating the gap parameter amplitude\n",
    "N = 30\n",
    "Nc = 2\n",
    "t = 1\n",
    "\n",
    "mu = 0.5 * t\n",
    "V = 1.5 * t\n",
    "\n",
    "convergence_threshold = 1e-7\n",
    "\n",
    "T_set = np.linspace(0, 0.1, 10)\n",
    "\n",
    "last_delta = np.zeros((N,N))\n",
    "\n",
    "solver_normal = BdG_method(N, Nc, mu, t, V, T_set[0], convergence_threshold)\n",
    "solver_cluster = MBdG_method(N, Nc, mu, t, V, T_set[0], convergence_threshold)\n",
    "\n",
    "times_normal = []\n",
    "times_cluster = []\n",
    "\n",
    "for i, T in enumerate(T_set):\n",
    "    print(round(T,3), end=\" \")\n",
    "    solver_normal.set_temperature(T)\n",
    "    solver_cluster.set_temperature(T)\n",
    "    \n",
    "    start = time.time()\n",
    "    last_delta_normal = solver_normal.run_solver()\n",
    "    times_normal.append(time.time() - start)\n",
    "    \n",
    "    start = time.time()\n",
    "    last_delta_cluster = solver_cluster.run_solver()\n",
    "    times_cluster.append(time.time() - start)\n",
    "    \n",
    "print(\"Done.\")"
   ]
  },
  {
   "cell_type": "code",
   "execution_count": 12,
   "metadata": {},
   "outputs": [
    {
     "name": "stdout",
     "output_type": "stream",
     "text": [
      "2.3249340057373047\n",
      "0.14262077808380128\n"
     ]
    }
   ],
   "source": [
    "print(np.mean(times_normal))\n",
    "print(np.mean(times_cluster))"
   ]
  },
  {
   "cell_type": "code",
   "execution_count": 31,
   "metadata": {},
   "outputs": [
    {
     "name": "stdout",
     "output_type": "stream",
     "text": [
      "0.0 0.01 0.02 0.02 0.03 0.04 0.05 0.06 0.06 0.07 0.08 0.09 0.09 0.1 0.11 0.12 0.13 0.13 0.14 0.15 \n",
      "Done.\n"
     ]
    }
   ],
   "source": [
    "N = 30\n",
    "Nc = 12\n",
    "t = 1\n",
    "\n",
    "mu = 0.8 * t\n",
    "V = 1.5 * t\n",
    "\n",
    "convergence_threshold = 1e-4\n",
    "T_set = np.linspace(0, 0.15, 20)\n",
    "\n",
    "deltas_normal = []\n",
    "deltas_cluster = []\n",
    "\n",
    "# Creating a BdG instance\n",
    "solver_normal = BdG_method(N, Nc, mu, t, V, T_set[0], convergence_threshold)\n",
    "solver_cluster = MBdG_method(N, Nc, mu, t, V, T_set[0], convergence_threshold)\n",
    "\n",
    "for i, T in enumerate(T_set):\n",
    "    print(round(T, 2), end=\" \")\n",
    "    solver_normal.set_temperature(T)\n",
    "    solver_cluster.set_temperature(T)\n",
    "    \n",
    "    solver_normal.run_solver()\n",
    "    solver_cluster.run_solver()\n",
    "\n",
    "    deltas_normal.append(solver_normal.get_global_delta())\n",
    "    deltas_cluster.append(solver_cluster.get_global_delta())\n",
    "    \n",
    "print(\"\\nDone.\")"
   ]
  },
  {
   "cell_type": "code",
   "execution_count": 32,
   "metadata": {},
   "outputs": [
    {
     "name": "stdout",
     "output_type": "stream",
     "text": [
      "0.11842105263157895 0.07762559266252951\n",
      "0.12631578947368421 0.0876757146959955\n"
     ]
    },
    {
     "data": {
      "image/png": "[encoded data removed]",
      "text/plain": [
       "<Figure size 1500x500 with 1 Axes>"
      ]
     },
     "metadata": {},
     "output_type": "display_data"
    }
   ],
   "source": [
    "fig, axs = plt.subplots(1, figsize=(15,5))\n",
    "\n",
    "axs.scatter(T_set, deltas_normal, c=\"b\", label=\"Normal\")  \n",
    "axs.scatter(T_set, deltas_cluster, c=\"r\", label=\"Cluster\")  \n",
    "\n",
    "Tc_normal = find_critical_temperature(T_set, deltas_normal, 1e-3)\n",
    "Tc_cluster = find_critical_temperature(T_set, deltas_cluster, 1e-3)\n",
    "\n",
    "print(Tc_normal, calculate_critical_temperature(deltas_normal[0]))\n",
    "print(Tc_cluster, calculate_critical_temperature(deltas_cluster[0]))\n"
   ]
  },
  {
   "attachments": {},
   "cell_type": "markdown",
   "metadata": {},
   "source": [
    "# Comparing the two methods."
   ]
  },
  {
   "cell_type": "code",
   "execution_count": 4,
   "metadata": {},
   "outputs": [
    {
     "name": "stdout",
     "output_type": "stream",
     "text": [
      "0.0 0.03 "
     ]
    },
    {
     "ename": "KeyboardInterrupt",
     "evalue": "",
     "output_type": "error",
     "traceback": [
      "\u001b[0;31m---------------------------------------------------------------------------\u001b[0m",
      "\u001b[0;31mKeyboardInterrupt\u001b[0m                         Traceback (most recent call last)",
      "Cell \u001b[0;32mIn[4], line 17\u001b[0m\n\u001b[1;32m     15\u001b[0m     \u001b[39mprint\u001b[39m(\u001b[39mround\u001b[39m(T, \u001b[39m2\u001b[39m), end\u001b[39m=\u001b[39m\u001b[39m\"\u001b[39m\u001b[39m \u001b[39m\u001b[39m\"\u001b[39m)\n\u001b[1;32m     16\u001b[0m     solver\u001b[39m.\u001b[39mset_temperature(T)\n\u001b[0;32m---> 17\u001b[0m     last_delta \u001b[39m=\u001b[39m solver\u001b[39m.\u001b[39;49mrun_solver()\n\u001b[1;32m     19\u001b[0m     axs\u001b[39m.\u001b[39mscatter(T, np\u001b[39m.\u001b[39mreal(solver\u001b[39m.\u001b[39mget_global_delta()), c\u001b[39m=\u001b[39m\u001b[39m\"\u001b[39m\u001b[39mb\u001b[39m\u001b[39m\"\u001b[39m, label\u001b[39m=\u001b[39m\u001b[39m\"\u001b[39m\u001b[39mBdg\u001b[39m\u001b[39m\"\u001b[39m)    \n\u001b[1;32m     21\u001b[0m \u001b[39mprint\u001b[39m(\u001b[39m\"\u001b[39m\u001b[39m\"\u001b[39m)\n",
      "File \u001b[0;32m~/Studier/bdg_formalism/BdG-numerical/methods/bdg_method.py:95\u001b[0m, in \u001b[0;36mBdG_method.run_solver\u001b[0;34m(self)\u001b[0m\n\u001b[1;32m     92\u001b[0m \u001b[39m\u001b[39m\u001b[39m\"\"\" Runs the main loop of the solver, does this n times. \"\"\"\u001b[39;00m\n\u001b[1;32m     94\u001b[0m \u001b[39mfor\u001b[39;00m i \u001b[39min\u001b[39;00m \u001b[39mrange\u001b[39m(\u001b[39mself\u001b[39m\u001b[39m.\u001b[39mnum_iterations):\n\u001b[0;32m---> 95\u001b[0m     \u001b[39mself\u001b[39;49m\u001b[39m.\u001b[39;49mself_consistent_condition()  \u001b[39m# Updates the gap parameter\u001b[39;00m\n\u001b[1;32m     96\u001b[0m     \u001b[39mself\u001b[39m\u001b[39m.\u001b[39mH_bdg \u001b[39m=\u001b[39m get_bdg_hamiltonian(\u001b[39mself\u001b[39m\u001b[39m.\u001b[39mH0, \u001b[39m-\u001b[39m\u001b[39mself\u001b[39m\u001b[39m.\u001b[39mdelta)\n\u001b[1;32m     97\u001b[0m \u001b[39mreturn\u001b[39;00m \u001b[39mself\u001b[39m\u001b[39m.\u001b[39mdelta\n",
      "File \u001b[0;32m~/Studier/bdg_formalism/BdG-numerical/methods/bdg_method.py:67\u001b[0m, in \u001b[0;36mBdG_method.self_consistent_condition\u001b[0;34m(self)\u001b[0m\n\u001b[1;32m     65\u001b[0m \u001b[39mdef\u001b[39;00m \u001b[39mself_consistent_condition\u001b[39m(\u001b[39mself\u001b[39m):\n\u001b[1;32m     66\u001b[0m \u001b[39m    \u001b[39m\u001b[39m\"\"\" Updates the gap parameter according to the self-consistent condition. \"\"\"\u001b[39;00m\n\u001b[0;32m---> 67\u001b[0m     energy_eigs, eigen_vecs \u001b[39m=\u001b[39m np\u001b[39m.\u001b[39;49mlinalg\u001b[39m.\u001b[39;49meig(\u001b[39mself\u001b[39;49m\u001b[39m.\u001b[39;49mH_bdg)\n\u001b[1;32m     68\u001b[0m     \u001b[39m# Divide the eigenevectors into its u and v part, by splitting between middle of the rows\u001b[39;00m\n\u001b[1;32m     69\u001b[0m     u_eigenvectors \u001b[39m=\u001b[39m eigen_vecs[:\u001b[39mself\u001b[39m\u001b[39m.\u001b[39mN,:]\n",
      "File \u001b[0;32m<__array_function__ internals>:200\u001b[0m, in \u001b[0;36meig\u001b[0;34m(*args, **kwargs)\u001b[0m\n",
      "File \u001b[0;32m~/.local/lib/python3.10/site-packages/numpy/linalg/linalg.py:1304\u001b[0m, in \u001b[0;36meig\u001b[0;34m(a)\u001b[0m\n\u001b[1;32m   1301\u001b[0m extobj \u001b[39m=\u001b[39m get_linalg_error_extobj(\n\u001b[1;32m   1302\u001b[0m     _raise_linalgerror_eigenvalues_nonconvergence)\n\u001b[1;32m   1303\u001b[0m signature \u001b[39m=\u001b[39m \u001b[39m'\u001b[39m\u001b[39mD->DD\u001b[39m\u001b[39m'\u001b[39m \u001b[39mif\u001b[39;00m isComplexType(t) \u001b[39melse\u001b[39;00m \u001b[39m'\u001b[39m\u001b[39md->DD\u001b[39m\u001b[39m'\u001b[39m\n\u001b[0;32m-> 1304\u001b[0m w, vt \u001b[39m=\u001b[39m _umath_linalg\u001b[39m.\u001b[39;49meig(a, signature\u001b[39m=\u001b[39;49msignature, extobj\u001b[39m=\u001b[39;49mextobj)\n\u001b[1;32m   1306\u001b[0m \u001b[39mif\u001b[39;00m \u001b[39mnot\u001b[39;00m isComplexType(t) \u001b[39mand\u001b[39;00m \u001b[39mall\u001b[39m(w\u001b[39m.\u001b[39mimag \u001b[39m==\u001b[39m \u001b[39m0.0\u001b[39m):\n\u001b[1;32m   1307\u001b[0m     w \u001b[39m=\u001b[39m w\u001b[39m.\u001b[39mreal\n",
      "\u001b[0;31mKeyboardInterrupt\u001b[0m: "
     ]
    },
    {
     "data": {
      "image/png": "[encoded data removed]",
      "text/plain": [
       "<Figure size 1500x500 with 1 Axes>"
      ]
     },
     "metadata": {},
     "output_type": "display_data"
    }
   ],
   "source": [
    "N = 20\n",
    "Nc = 2\n",
    "t = 1\n",
    "mu = 0.1 * t\n",
    "\n",
    "num_iter = 100\n",
    "T_set = np.linspace(0, 0.3, 10)\n",
    "\n",
    "# Calculating the gap parameter amplitude\n",
    "fig, axs = plt.subplots(1, figsize=(15,5))\n",
    "\n",
    "# Creating a BdG instance\n",
    "solver = BdG_method(N, Nc, mu, t, 0, num_iter)\n",
    "for i, T in enumerate(T_set):\n",
    "    print(round(T, 2), end=\" \")\n",
    "    solver.set_temperature(T)\n",
    "    last_delta = solver.run_solver()\n",
    "    \n",
    "    axs.scatter(T, np.real(solver.get_global_delta()), c=\"b\", label=\"Bdg\")    \n",
    "    \n",
    "print(\"\")\n",
    "# Creating a MBdG instance\n",
    "solver = MBdG_method(N, Nc, mu, t, 0, num_iter)\n",
    "for i, T in enumerate(T_set):\n",
    "    print(round(T, 2), end=\" \")\n",
    "    solver.set_temperature(T)\n",
    "    last_delta = solver.run_solver()\n",
    "    \n",
    "    axs.scatter(T, np.real(solver.get_global_delta()), color=\"red\", marker=\"+\", label=\"MBdg\")    \n",
    "    "
   ]
  },
  {
   "cell_type": "code",
   "execution_count": 10,
   "metadata": {},
   "outputs": [
    {
     "name": "stdout",
     "output_type": "stream",
     "text": [
      "[ 1.61168440e+01 -1.11684397e+00 -1.30367773e-15]\n",
      "[-0.35889894  8.35889894]\n"
     ]
    }
   ],
   "source": [
    "A = np.array([[1, 2, 3], [4, 5, 6], [7, 8, 9]])\n",
    "B = np.array([[2, 3], [5, 6]])\n",
    "\n",
    "print(np.linalg.eigvals(A))\n",
    "print(np.linalg.eigvals(B))"
   ]
  },
  {
   "cell_type": "code",
   "execution_count": 21,
   "metadata": {},
   "outputs": [
    {
     "name": "stdout",
     "output_type": "stream",
     "text": [
      "[ 3.24642492e+01 -2.46424920e+00  1.64176007e-15 -1.10576860e-16]\n",
      "[ 3.07797338e+01 -7.79733838e-01 -5.07291234e-16]\n"
     ]
    }
   ],
   "source": [
    "A = np.arange(16).reshape(4,4)\n",
    "B = A[1:,1:]\n",
    "print(np.linalg.eigvals(A))\n",
    "print(np.linalg.eigvals(B))\n"
   ]
  }
 ],
 "metadata": {
  "kernelspec": {
   "display_name": "Python 3",
   "language": "python",
   "name": "python3"
  },
  "language_info": {
   "codemirror_mode": {
    "name": "ipython",
    "version": 3
   },
   "file_extension": ".py",
   "mimetype": "text/x-python",
   "name": "python",
   "nbconvert_exporter": "python",
   "pygments_lexer": "ipython3",
   "version": "3.10.6"
  },
  "orig_nbformat": 4,
  "vscode": {
   "interpreter": {
    "hash": "31f2aee4e71d21fbe5cf8b01ff0e069b9275f58929596ceb00d14d90e3e16cd6"
   }
  }
 },
 "nbformat": 4,
 "nbformat_minor": 2
}

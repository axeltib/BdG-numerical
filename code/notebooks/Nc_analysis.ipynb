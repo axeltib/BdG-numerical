{
 "cells": [
  {
   "cell_type": "code",
   "execution_count": 1,
   "metadata": {},
   "outputs": [],
   "source": [
    "import os\n",
    "import sys\n",
    "import pickle\n",
    "\n",
    "import numpy as np\n",
    "\n",
    "import scipy.optimize\n",
    "\n",
    "import matplotlib\n",
    "import matplotlib.pyplot as plt\n",
    "import matplotlib.cm as cm\n",
    "\n",
    "main_dir = \"/home/axel/BdG-numerical\"\n",
    "if not main_dir in sys.path:\n",
    "    sys.path.append(main_dir)\n",
    "\n",
    "if not os.getcwd() == main_dir:\n",
    "    os.chdir(main_dir)\n"
   ]
  },
  {
   "cell_type": "code",
   "execution_count": 2,
   "metadata": {},
   "outputs": [
    {
     "name": "stdout",
     "output_type": "stream",
     "text": [
      "/home/axel/BdG-numerical\n"
     ]
    }
   ],
   "source": [
    "print(os.getcwd())"
   ]
  },
  {
   "cell_type": "code",
   "execution_count": 4,
   "metadata": {},
   "outputs": [
    {
     "name": "stdout",
     "output_type": "stream",
     "text": [
      "path added: cluster_runs/230916/run1/hom/135787713-deltas.pickle\n",
      "path added: cluster_runs/230916/run1/inhom/135787703-deltas.pickle\n",
      "path added: cluster_runs/230916/run1/inhom/135787709-deltas.pickle\n",
      "path added: cluster_runs/230916/run1/inhom/135787699-deltas.pickle\n",
      "path added: cluster_runs/230916/run1/inhom/135787701-deltas.pickle\n",
      "path added: cluster_runs/230916/run1/inhom/135787705-deltas.pickle\n",
      "path added: cluster_runs/230916/run1/inhom/135787711-deltas.pickle\n",
      "path added: cluster_runs/230916/run1/inhom/135787707-deltas.pickle\n"
     ]
    }
   ],
   "source": [
    "def get_pickle_paths(dir):\n",
    "    # collect pickle paths\n",
    "    paths = []\n",
    "    for fp in os.listdir(dir):\n",
    "        if fp.endswith(\".pickle\"):\n",
    "            print(\"path added: \" + dir + fp)\n",
    "            paths.append(dir + fp)\n",
    "    return paths\n",
    "\n",
    "# define dir\n",
    "run_date = \"230916/\"\n",
    "run_name = \"run1/\"\n",
    "\n",
    "hom_path = \"cluster_runs/\" + run_date + run_name + \"hom/\"\n",
    "inhom_path = \"cluster_runs/\" + run_date + run_name + \"inhom/\"\n",
    "\n",
    "# get paths\n",
    "hom_pickles_paths = get_pickle_paths(hom_path)\n",
    "inhom_pickles_paths = get_pickle_paths(inhom_path)"
   ]
  },
  {
   "cell_type": "code",
   "execution_count": 5,
   "metadata": {},
   "outputs": [
    {
     "name": "stdout",
     "output_type": "stream",
     "text": [
      "['delta-inhom-freq-1', 'delta-inhom-freq-2', 'delta-inhom-freq-3', 'delta-inhom-freq-4', 'delta-inhom-freq-5', 'delta-inhom-freq-6', 'delta-inhom-freq-7', 'delta-hom-1']\n",
      "[[-0.00044435  0.00042856  0.00057805 ... -0.00055367 -0.00042272\n",
      "   0.00044489]\n",
      " [-0.00097078 -0.00159383 -0.00301957 ...  0.00317293  0.00165093\n",
      "   0.00098264]\n",
      " [-0.00049293  0.000337    0.00040835 ... -0.00060087 -0.00044942\n",
      "   0.00042874]\n",
      " ...\n",
      " [-0.00044423  0.00043154  0.00058359 ... -0.00056511 -0.00043029\n",
      "   0.00044155]\n",
      " [-0.0004431   0.00042957  0.00057894 ... -0.00055277 -0.00042224\n",
      "   0.0004459 ]\n",
      " [-0.00044477  0.00042707  0.00057554 ... -0.00055301 -0.00042266\n",
      "   0.00044489]]\n"
     ]
    }
   ],
   "source": [
    "delta_lists = {}\n",
    "keys = []\n",
    "\n",
    "# load inhoms\n",
    "for i, fp in enumerate(inhom_pickles_paths):\n",
    "    with open(fp, \"rb\") as f:\n",
    "        key = \"delta-inhom-freq-\" + str(i+1)\n",
    "        delta_lists[key] = pickle.load(f)\n",
    "        keys.append(key)\n",
    "        for i in range(len(delta_lists[key])):\n",
    "            delta_lists[key][i] = np.abs(delta_lists[key][i])\n",
    "\n",
    "# load hom\n",
    "for i, fp in enumerate(hom_pickles_paths):\n",
    "    with open(fp, \"rb\") as f:\n",
    "        key = \"delta-hom-\" + str(i+1)\n",
    "        delta_lists[key] = pickle.load(f)\n",
    "        keys.append(key)\n",
    "        for i in range(len(delta_lists[key])):\n",
    "            delta_lists[key][i] = np.abs(delta_lists[key][i])\n",
    "\n",
    "print(keys)\n",
    "\n",
    "arr1 = delta_lists[keys[-1]]\n",
    "arr2 = delta_lists[keys[2]]\n",
    "\n",
    "print(np.array(arr1) - np.array(arr2))\n"
   ]
  },
  {
   "cell_type": "code",
   "execution_count": 6,
   "metadata": {},
   "outputs": [
    {
     "name": "stdout",
     "output_type": "stream",
     "text": [
      "[0.879702034098981, 0.9579498766174259, 0.9862478126936655, 0.9941756623611838, 0.9980289477757127, 0.9993546714646226, 0.999831439241717, 0.9999566204208089, 0.9999839873764254]\n",
      "[0.8828188089735777, 0.960285569745769, 0.987285442616059, 0.994834001474147, 0.9985801822694397, 0.9996809130197793, 0.9999076577971241, 0.9999466728394123, 0.9999788761906256]\n",
      "[0.8793116109425476, 0.9576015980985624, 0.9860891027457644, 0.9940535700981522, 0.997924845470537, 0.9992810964219971, 0.9997813278772726, 0.9999302165832782, 0.9999745158130869]\n",
      "[0.87936060504062, 0.9576460940702182, 0.986109290402645, 0.9940696580022755, 0.9979384982418453, 0.9992910596979475, 0.9997881857269629, 0.9999341164799297, 0.9999764585365896]\n",
      "[0.8800885828992073, 0.9582810507519856, 0.9863984550926342, 0.9942848533668196, 0.9981211133646799, 0.9994171285194038, 0.9998713450251854, 0.999971826034055, 0.9999841741401236]\n",
      "[0.8884662405155619, 0.9628785293374014, 0.9883248060019298, 0.9955307857797759, 0.999042439223471, 0.9996960350841523, 0.9998875593333829, 0.9999486246288051, 0.9999748824448585]\n",
      "[0.8808979857810791, 0.9589346140633065, 0.9866929399954856, 0.9944828028920623, 0.9982861602810268, 0.999522577656618, 0.9999260231127076, 0.9999689518575486, 0.9999788450810911]\n",
      "[0.9455874772617885, 0.9280369535028616, 0.9844379706747878, 0.9999179755774886, 0.9980745399014915, 0.9992181779683479, 0.9998968422617917, 0.9999484073904856, 0.9999651947317368]\n"
     ]
    }
   ],
   "source": [
    "def delta_norm(delta_list):\n",
    "    norm = 0\n",
    "    for delta in delta_list:\n",
    "        norm += abs(delta)**2\n",
    "    \n",
    "    return np.sqrt(norm)\n",
    "\n",
    "delta_ordinary_norms = {}\n",
    "\n",
    "for key, val in delta_lists.items():\n",
    "    delta_ordinary_norms[key] = delta_norm(delta_lists[key][0])\n",
    "\n",
    "num_methods = len(delta_lists[keys[0]]) - 1\n",
    "\n",
    "norms  = {}\n",
    "errs = {}\n",
    "\n",
    "for key, delta_list in delta_lists.items():\n",
    "    norm_list = []\n",
    "    err_list = []\n",
    "    \n",
    "    for i in range(num_methods-1):\n",
    "        norm_list.append(1-delta_norm(delta_lists[key][0] - delta_lists[key][i+1])/delta_ordinary_norms[key])\n",
    "        err_list.append(1 - np.array(norm_list[-1]))\n",
    "    print(norm_list)\n",
    "    norms[key] = norm_list\n",
    "    errs[key] = err_list"
   ]
  },
  {
   "cell_type": "code",
   "execution_count": 7,
   "metadata": {},
   "outputs": [
    {
     "name": "stdout",
     "output_type": "stream",
     "text": [
      "delta-inhom-freq-1\n",
      "9\n",
      "9\n",
      "delta-inhom-freq-2\n",
      "9\n",
      "9\n",
      "delta-inhom-freq-3\n",
      "9\n",
      "9\n",
      "delta-inhom-freq-4\n",
      "9\n",
      "9\n",
      "delta-inhom-freq-5\n",
      "9\n",
      "9\n",
      "delta-inhom-freq-6\n",
      "9\n",
      "9\n",
      "delta-inhom-freq-7\n",
      "9\n",
      "9\n",
      "delta-hom-1\n",
      "9\n",
      "9\n"
     ]
    },
    {
     "data": {
      "text/plain": [
       "<matplotlib.legend.Legend at 0x7f8643fe2260>"
      ]
     },
     "execution_count": 7,
     "metadata": {},
     "output_type": "execute_result"
    },
    {
     "data": {
      "image/png": "[encoded data removed]",
      "text/plain": [
       "<Figure size 640x480 with 1 Axes>"
      ]
     },
     "metadata": {},
     "output_type": "display_data"
    }
   ],
   "source": [
    "Nc_list = [1, 2, 3, 5, 6, 7, 8, 9, 10]\n",
    "\n",
    "\n",
    "# fit_result = np.polyfit(Nc_list[start_i:], np.log(err[start_i:]), 1, w=np.sqrt(err[start_i:]))\n",
    "#hom_fit_result, pcov = scipy.optimize.curve_fit(lambda t,a,b: a*np.exp(b*t), Nc_list[start_i:end_i], hom_err[start_i:end_i], p0=(0.1, 0.1))\n",
    "#inhom_fit_result, pcov = scipy.optimize.curve_fit(lambda t,a,b: a*np.exp(b*t), Nc_list[start_i:end_i], inhom_err[start_i:end_i], p0=(0.1, 0.1))\n",
    "\n",
    "#hom_A = hom_fit_result[0]\n",
    "#hom_B = hom_fit_result[1]\n",
    "\n",
    "#inhom_A = inhom_fit_result[0]\n",
    "#inhom_B = inhom_fit_result[1]\n",
    "\n",
    "\n",
    "x_range = np.array(Nc_list)\n",
    "\n",
    "\n",
    "\n",
    "\n",
    "for key, err_list in errs.items():\n",
    "    print(key)\n",
    "    print(len(err_list))\n",
    "    print(len(Nc_list))\n",
    "    \n",
    "    plt.scatter(Nc_list, np.log(err_list),label=key)\n",
    "    #plt.scatter(Nc_list[start_i:end_i], np.log(inhom_err[start_i:end_i]),label=\"Inom\")\n",
    "\n",
    "\n",
    "\n",
    "plt.legend()\n",
    "\n"
   ]
  }
 ],
 "metadata": {
  "kernelspec": {
   "display_name": "Python 3",
   "language": "python",
   "name": "python3"
  },
  "language_info": {
   "codemirror_mode": {
    "name": "ipython",
    "version": 3
   },
   "file_extension": ".py",
   "mimetype": "text/x-python",
   "name": "python",
   "nbconvert_exporter": "python",
   "pygments_lexer": "ipython3",
   "version": "3.10.12"
  },
  "orig_nbformat": 4
 },
 "nbformat": 4,
 "nbformat_minor": 2
}

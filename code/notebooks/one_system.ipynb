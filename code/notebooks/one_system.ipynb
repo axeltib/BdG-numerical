{
 "cells": [
  {
   "cell_type": "code",
   "execution_count": 1,
   "metadata": {},
   "outputs": [],
   "source": [
    "import os\n",
    "import sys\n",
    "import pickle\n",
    "\n",
    "import numpy as np\n",
    "\n",
    "import scipy.optimize\n",
    "\n",
    "import matplotlib\n",
    "import matplotlib.pyplot as plt\n",
    "import matplotlib.cm as cm\n",
    "\n",
    "main_dir = \"/home/axel/BdG-numerical\"\n",
    "if not main_dir in sys.path:\n",
    "    sys.path.append(main_dir)\n",
    "\n",
    "if not os.getcwd() == main_dir:\n",
    "    os.chdir(main_dir)"
   ]
  },
  {
   "cell_type": "code",
   "execution_count": 3,
   "metadata": {},
   "outputs": [
    {
     "name": "stdout",
     "output_type": "stream",
     "text": [
      "path added: cluster_runs/231107/run4/136054006-timing.pickle\n"
     ]
    }
   ],
   "source": [
    "def get_pickle_paths(dir):\n",
    "    # collect pickle paths\n",
    "    paths = []\n",
    "    for fp in os.listdir(dir):\n",
    "        if fp.endswith(\".pickle\"):\n",
    "            print(\"path added: \" + dir + fp)\n",
    "            paths.append(dir + fp)\n",
    "    return paths\n",
    "\n",
    "# define dir\n",
    "run_date = \"231107\"\n",
    "run_name = \"run4\"\n",
    "\n",
    "#hom_path = \"cluster_runs/\" + run_date + \"/\" + run_name + \"/\"\n",
    "#inhom_path = \"cluster_runs/\" + run_date + run_name + \"inhom/\"\n",
    "path = \"cluster_runs/\" + run_date + \"/\" + run_name + \"/\"\n",
    "\n",
    "# get paths\n",
    "pickles_paths = get_pickle_paths(path)\n",
    "\n",
    "with open(pickles_paths[0], \"rb\") as f:\n",
    "    results = pickle.load(f)"
   ]
  },
  {
   "cell_type": "code",
   "execution_count": 4,
   "metadata": {},
   "outputs": [
    {
     "name": "stdout",
     "output_type": "stream",
     "text": [
      "System sizes N:  [ 50. 100. 150. 200. 300. 400. 500.]\n",
      "Solver ids:  ['NBM', 'CBM-Nc1', 'CBM-Nc3', 'CBM-Nc5', 'CBM-Nc10', 'CBM-Nc20']\n"
     ]
    }
   ],
   "source": [
    "keys = np.array([])\n",
    "\n",
    "system_sizes = np.array([])\n",
    "# get keys\n",
    "for N, result in results.run_results.items(): #system size\n",
    "    system_sizes = np.append(system_sizes, N)\n",
    "    keys = result.sim_results.keys()\n",
    "\n",
    "keys = list(keys)\n",
    "\n",
    "print(\"System sizes N: \", system_sizes)\n",
    "print(\"Solver ids: \", keys)"
   ]
  },
  {
   "cell_type": "markdown",
   "metadata": {},
   "source": [
    "# Err plot"
   ]
  },
  {
   "cell_type": "code",
   "execution_count": 52,
   "metadata": {},
   "outputs": [],
   "source": [
    "def delta_norm(delta_list):\n",
    "    norm = 0\n",
    "    for delta in delta_list:\n",
    "        norm += abs(delta)**2\n",
    "    \n",
    "    return np.sqrt(norm)\n",
    "\n",
    "def get_nc_from_id(id: str) -> int:\n",
    "    Nc = int(id.removeprefix(\"CBM-Nc\"))\n",
    "    return Nc"
   ]
  },
  {
   "cell_type": "markdown",
   "metadata": {},
   "source": [
    "1. Take the norm of the NBdG for every system size\n",
    "2. Do the same for all CBdGs\n",
    "3. Compare to the nominal norms, and create the error\n",
    "4. Plot the error against the cluster sizes"
   ]
  },
  {
   "cell_type": "code",
   "execution_count": 54,
   "metadata": {},
   "outputs": [
    {
     "name": "stderr",
     "output_type": "stream",
     "text": [
      "No artists with labels found to put in legend.  Note that artists whose label start with an underscore are ignored when legend() is called with no argument.\n"
     ]
    },
    {
     "name": "stdout",
     "output_type": "stream",
     "text": [
      "[ 1.  3.  5. 10. 20.]\n"
     ]
    },
    {
     "data": {
      "image/png": "[encoded data removed]",
      "text/plain": [
       "<Figure size 640x480 with 1 Axes>"
      ]
     },
     "metadata": {},
     "output_type": "display_data"
    }
   ],
   "source": [
    "fig1, ax1 = plt.subplots()\n",
    "\n",
    "# Constructing the data\n",
    "nom_key = \"NBM\"\n",
    "\n",
    "nom_deltas = dict()\n",
    "\n",
    "for N, res in results.run_results.items():\n",
    "    nom_deltas[N] = res.sim_results[nom_key].get_delta()\n",
    "\n",
    "errs = np.array([])\n",
    "cluster_sizes = np.array([])\n",
    "\n",
    "errs_from_clustersize = dict()\n",
    "\n",
    "for key in keys:\n",
    "    if key == nom_key:\n",
    "        continue\n",
    "    \n",
    "    d = np.empty([0, 2])\n",
    "    errs_per_n = []  # err per system size\n",
    "    # print(get_nc_from_id(key))\n",
    "    for N, result in results.run_results.items(): #system size\n",
    "        errs_per_n.append(\n",
    "            delta_norm(\n",
    "                 result.sim_results[key].get_delta() -\\\n",
    "                 nom_deltas[N]\n",
    "                ) / delta_norm(nom_deltas[N])\n",
    "        )\n",
    "        \n",
    "    \n",
    "        # print(key, err)\n",
    "    errs = np.append(errs, np.mean(errs_per_n))\n",
    "    cluster_sizes = np.append(cluster_sizes, get_nc_from_id(key))\n",
    "    \n",
    "print(cluster_sizes)\n",
    "    \n",
    "ax1.scatter(\n",
    "    np.log(cluster_sizes), \n",
    "    np.log(errs), \n",
    ")\n",
    "\n",
    "\n",
    "ax1.legend()\n",
    "\n",
    "plt.show()    "
   ]
  }
 ],
 "metadata": {
  "kernelspec": {
   "display_name": "Python 3",
   "language": "python",
   "name": "python3"
  },
  "language_info": {
   "codemirror_mode": {
    "name": "ipython",
    "version": 3
   },
   "file_extension": ".py",
   "mimetype": "text/x-python",
   "name": "python",
   "nbconvert_exporter": "python",
   "pygments_lexer": "ipython3",
   "version": "3.10.12"
  },
  "orig_nbformat": 4
 },
 "nbformat": 4,
 "nbformat_minor": 2
}

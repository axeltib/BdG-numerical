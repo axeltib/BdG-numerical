{
 "cells": [
  {
   "cell_type": "code",
   "execution_count": 1,
   "metadata": {},
   "outputs": [],
   "source": [
    "import os\n",
    "import sys\n",
    "import pickle\n",
    "\n",
    "import git\n",
    "\n",
    "import numpy as np\n",
    "\n",
    "import matplotlib.pyplot as plt\n",
    "import matplotlib.cm as cm\n",
    "\n",
    "repo_path = git.Repo('.', search_parent_directories=True).working_tree_dir\n",
    "\n",
    "if not repo_path in sys.path:\n",
    "    sys.path.append(repo_path)\n",
    "\n",
    "if not os.getcwd() == repo_path:\n",
    "    os.chdir(repo_path)"
   ]
  },
  {
   "cell_type": "code",
   "execution_count": 2,
   "metadata": {},
   "outputs": [
    {
     "name": "stdout",
     "output_type": "stream",
     "text": [
      "path added: cluster_runs/231108//136054110-timing.pickle\n"
     ]
    }
   ],
   "source": [
    "def get_pickle_paths(dir):\n",
    "    # collect pickle paths\n",
    "    paths = []\n",
    "    for fp in os.listdir(dir):\n",
    "        if fp.endswith(\".pickle\"):\n",
    "            print(\"path added: \" + dir + fp)\n",
    "            paths.append(dir + fp)\n",
    "    return paths\n",
    "\n",
    "# define dir\n",
    "run_date = \"231108\"\n",
    "run_name = \"\"\n",
    "\n",
    "#hom_path = \"cluster_runs/\" + run_date + \"/\" + run_name + \"/\"\n",
    "#inhom_path = \"cluster_runs/\" + run_date + run_name + \"inhom/\"\n",
    "path = \"cluster_runs/\" + run_date + \"/\" + run_name + \"/\"\n",
    "\n",
    "# get paths\n",
    "pickles_paths = get_pickle_paths(path)\n",
    "\n",
    "with open(pickles_paths[0], \"rb\") as f:\n",
    "    results = pickle.load(f)"
   ]
  },
  {
   "cell_type": "code",
   "execution_count": 3,
   "metadata": {},
   "outputs": [
    {
     "name": "stdout",
     "output_type": "stream",
     "text": [
      "System sizes N:  [ 50. 100. 150. 200. 300. 400. 500.]\n",
      "Solver ids:  ['NBM', 'CBM-Nc1', 'CBM-Nc2', 'CBM-Nc3', 'CBM-Nc5', 'CBM-Nc7', 'CBM-Nc10', 'CBM-Nc12', 'CBM-Nc15', 'CBM-Nc17', 'CBM-Nc20', 'CBM-Nc24']\n"
     ]
    }
   ],
   "source": [
    "keys = np.array([])\n",
    "\n",
    "system_sizes = np.array([])\n",
    "# get keys\n",
    "for N, result in results.run_results.items(): #system size\n",
    "    system_sizes = np.append(system_sizes, N)\n",
    "    keys = result.sim_results.keys()\n",
    "\n",
    "keys = list(keys)\n",
    "\n",
    "print(\"System sizes N: \", system_sizes)\n",
    "print(\"Solver ids: \", keys)"
   ]
  },
  {
   "cell_type": "markdown",
   "metadata": {},
   "source": [
    "# Err plot"
   ]
  },
  {
   "cell_type": "code",
   "execution_count": 4,
   "metadata": {},
   "outputs": [],
   "source": [
    "def delta_norm(delta_list):\n",
    "    norm = 0\n",
    "    for delta in delta_list:\n",
    "        norm += abs(delta)**2\n",
    "    \n",
    "    return norm\n",
    "\n",
    "def get_nc_from_id(id: str) -> int:\n",
    "    Nc = int(id.removeprefix(\"CBM-Nc\"))\n",
    "    return Nc"
   ]
  },
  {
   "cell_type": "markdown",
   "metadata": {},
   "source": [
    "1. Take the norm of the NBdG for every system size\n",
    "2. Do the same for all CBdGs\n",
    "3. Compare to the nominal norms, and create the error\n",
    "4. Plot the error against the cluster sizes"
   ]
  },
  {
   "cell_type": "code",
   "execution_count": 5,
   "metadata": {},
   "outputs": [
    {
     "name": "stderr",
     "output_type": "stream",
     "text": [
      "No artists with labels found to put in legend.  Note that artists whose label start with an underscore are ignored when legend() is called with no argument.\n"
     ]
    },
    {
     "name": "stdout",
     "output_type": "stream",
     "text": [
      "[ 1.  2.  3.  5.  7. 10. 12. 15. 17. 20. 24.]\n"
     ]
    },
    {
     "data": {
      "image/png": "[encoded data removed]",
      "text/plain": [
       "<Figure size 640x480 with 1 Axes>"
      ]
     },
     "metadata": {},
     "output_type": "display_data"
    }
   ],
   "source": [
    "fig1, ax1 = plt.subplots()\n",
    "\n",
    "# Constructing the data\n",
    "nom_key = \"NBM\"\n",
    "\n",
    "nom_deltas = dict()\n",
    "\n",
    "for N, res in results.run_results.items():\n",
    "    nom_deltas[N] = res.sim_results[nom_key].get_delta()\n",
    "\n",
    "errs = np.array([])\n",
    "cluster_sizes = np.array([])\n",
    "\n",
    "errs_from_clustersize = dict()\n",
    "\n",
    "for key in keys:\n",
    "    if key == nom_key:\n",
    "        continue\n",
    "    \n",
    "    d = np.empty([0, 2])\n",
    "    errs_per_n = []  # err per system size\n",
    "    # print(get_nc_from_id(key))\n",
    "    for N, result in results.run_results.items(): #system size\n",
    "        errs_per_n.append(\n",
    "            delta_norm(\n",
    "                 result.sim_results[key].get_delta() -\\\n",
    "                 nom_deltas[N]\n",
    "                ) / delta_norm(nom_deltas[N])\n",
    "        )\n",
    "        \n",
    "    \n",
    "        # print(key, err)\n",
    "    errs = np.append(errs, np.mean(errs_per_n))\n",
    "    cluster_sizes = np.append(cluster_sizes, get_nc_from_id(key))\n",
    "    \n",
    "print(cluster_sizes)\n",
    "    \n",
    "ax1.scatter(\n",
    "    cluster_sizes, \n",
    "    errs, \n",
    ")\n",
    "\n",
    "\n",
    "# ax1.grid()\n",
    "ax1.set_yscale('log')\n",
    "ax1.set_xscale('log')\n",
    "\n",
    "ax1.legend()\n",
    "\n",
    "plt.show()    "
   ]
  },
  {
   "cell_type": "markdown",
   "metadata": {},
   "source": [
    "# Fitting the data"
   ]
  },
  {
   "cell_type": "code",
   "execution_count": 6,
   "metadata": {},
   "outputs": [],
   "source": [
    "from scipy import stats\n",
    "\n",
    "def linfunc(x, slope, intercept):\n",
    "  return slope * x + intercept"
   ]
  },
  {
   "cell_type": "markdown",
   "metadata": {},
   "source": [
    "$\\log(ax^b) = \\log a + b \\log(x)$"
   ]
  },
  {
   "cell_type": "code",
   "execution_count": 14,
   "metadata": {},
   "outputs": [
    {
     "name": "stdout",
     "output_type": "stream",
     "text": [
      "Slope:  -1.9849359399764313  Intercept:  -2.021804740595689\n"
     ]
    },
    {
     "name": "stderr",
     "output_type": "stream",
     "text": [
      "/tmp/ipykernel_627853/1938398137.py:63: UserWarning: FigureCanvasAgg is non-interactive, and thus cannot be shown\n",
      "  fig2.show()\n"
     ]
    },
    {
     "data": {
      "image/png": "[encoded data removed]",
      "text/plain": [
       "<Figure size 400x300 with 1 Axes>"
      ]
     },
     "metadata": {},
     "output_type": "display_data"
    }
   ],
   "source": [
    "N = 500\n",
    "\n",
    "# cluster_sizes, errs \n",
    "fig2, ax2 = plt.subplots(figsize=(4,3))\n",
    "\n",
    "data = np.vstack([(2 * cluster_sizes + 1), errs]).T\n",
    "\n",
    "data_to_fit = np.log(data[6:,:])\n",
    "\n",
    "slope, intercept, r, p, std_err = stats.linregress(\n",
    "    data_to_fit[:,0], \n",
    "    data_to_fit[:,1]\n",
    ")\n",
    "\n",
    "xmin = np.min(data[:,0])\n",
    "xmax = np.max(data[:,0])\n",
    "\n",
    "x_points = np.linspace(xmin, xmax)\n",
    "\n",
    "\n",
    "ax2.scatter(\n",
    "   data[:,0], \n",
    "   data[:,1], \n",
    "   marker=\"*\",\n",
    "   s=30,\n",
    "   c=\"black\"\n",
    ")\n",
    "\n",
    "\n",
    "# print(x_points, linfunc(\n",
    "#     x=x_points, \n",
    "#     slope=slope, \n",
    "#     intercept=intercept\n",
    "#     ))\n",
    "\n",
    "def exp_func(x, a, b):\n",
    "    return a * np.power(x, b)\n",
    "\n",
    "ax2.plot(\n",
    "    x_points, exp_func(\n",
    "    x=x_points, \n",
    "    a=np.exp(intercept), \n",
    "    b=slope\n",
    "    ),\n",
    "    c=\"red\"\n",
    ")\n",
    "\n",
    "ax2.set_yscale('log')\n",
    "ax2.set_xscale('log')\n",
    "\n",
    "plt.rcParams[\"font.family\"] = \"monospace\"\n",
    "\n",
    "ax2.set_xlabel(r\"Number of cluster sites $2N_c + 1$\")\n",
    "ax2.set_ylabel(\"Error against NBM [-]\")\n",
    "\n",
    "size = 10\n",
    "plt.xticks(fontsize=size)\n",
    "plt.yticks(fontsize=size)\n",
    "\n",
    "ax2.grid()\n",
    "\n",
    "fig2.tight_layout()\n",
    "fig2.show() \n",
    "\n",
    "print(\"Slope: \", slope, \" Intercept: \", intercept)"
   ]
  },
  {
   "cell_type": "code",
   "execution_count": 15,
   "metadata": {},
   "outputs": [],
   "source": [
    "fig2.savefig(repo_path + \"/report/figures/one_sys_err.eps\", format=\"eps\")"
   ]
  }
 ],
 "metadata": {
  "kernelspec": {
   "display_name": "Python 3",
   "language": "python",
   "name": "python3"
  },
  "language_info": {
   "codemirror_mode": {
    "name": "ipython",
    "version": 3
   },
   "file_extension": ".py",
   "mimetype": "text/x-python",
   "name": "python",
   "nbconvert_exporter": "python",
   "pygments_lexer": "ipython3",
   "version": "3.10.12"
  },
  "orig_nbformat": 4
 },
 "nbformat": 4,
 "nbformat_minor": 2
}
